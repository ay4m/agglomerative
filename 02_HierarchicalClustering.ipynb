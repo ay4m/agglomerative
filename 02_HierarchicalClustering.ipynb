{
 "cells": [
  {
   "cell_type": "code",
   "execution_count": 10,
   "metadata": {},
   "outputs": [],
   "source": [
    "import numpy as np\n",
    "import matplotlib\n",
    "import matplotlib.pyplot as plt\n",
    "%matplotlib inline\n",
    "from sklearn.datasets import make_blobs"
   ]
  },
  {
   "cell_type": "code",
   "execution_count": 11,
   "metadata": {},
   "outputs": [],
   "source": [
    "# making cluster with 200 data points in 2-dimension with 3 noisy clusters\n",
    "blob_data = make_blobs(n_samples=20, n_features=2, centers=3, cluster_std=1)\n",
    "# the tuple of generated sample contains =>(data points in 2d, respective cluster it belongs to)\n",
    "data = blob_data[0]\n",
    "labels = blob_data[1]"
   ]
  },
  {
   "cell_type": "code",
   "execution_count": 12,
   "metadata": {},
   "outputs": [
    {
     "data": {
      "text/plain": [
       "<matplotlib.collections.PathCollection at 0x7fd4560a5cc0>"
      ]
     },
     "execution_count": 12,
     "metadata": {},
     "output_type": "execute_result"
    },
    {
     "data": {
      "image/png": "[encoded data removed]",
      "text/plain": [
       "<Figure size 432x288 with 1 Axes>"
      ]
     },
     "metadata": {
      "needs_background": "light"
     },
     "output_type": "display_data"
    }
   ],
   "source": [
    "# Plotting the data points in 2d\n",
    "datax = data[:,0]\n",
    "datay = data[:, 1]\n",
    "plt.scatter(datax, datay)"
   ]
  },
  {
   "cell_type": "markdown",
   "metadata": {},
   "source": [
    "### Clustering Class"
   ]
  },
  {
   "cell_type": "code",
   "execution_count": 5,
   "metadata": {},
   "outputs": [],
   "source": [
    "class Element(object):\n",
    "    \n",
    "    def __init__(self, **kwargs):\n",
    "        self.center = None\n",
    "        self.n_data = None\n",
    "        pass\n",
    "\n",
    "    def get_center(self):\n",
    "        pass\n",
    "    \n",
    "    def __repr__(self):\n",
    "        pass"
   ]
  },
  {
   "cell_type": "code",
   "execution_count": 6,
   "metadata": {},
   "outputs": [],
   "source": [
    "class Leaf(Element):\n",
    "    \n",
    "    def __init__(self, data):\n",
    "        self.center = data\n",
    "        self.n_data = 1\n",
    "    \n",
    "    def get_center(self):\n",
    "        return self.center, self.n_data\n",
    "    \n",
    "    def __repr__(self):\n",
    "        return f'{self.center} -> 1'"
   ]
  },
  {
   "cell_type": "code",
   "execution_count": 7,
   "metadata": {},
   "outputs": [],
   "source": [
    "class Cluster(Element):\n",
    "    \n",
    "    def __init__(self, node1, node2):\n",
    "        self.node1 = node1\n",
    "        self.node2 = node2\n",
    "        \n",
    "        c1, n1 = node1.get_center()\n",
    "        c2, n2 = node2.get_center()\n",
    "        n = n1+ n2\n",
    "        c = (c1*n1 + c2*n2)/n\n",
    "        \n",
    "        self.n_data = n\n",
    "        self.center = c\n",
    "    \n",
    "    def get_center(self):\n",
    "        return self.center, self.n_data\n",
    "    \n",
    "        \n",
    "    def __repr__(self):\n",
    "        return f'{self.center} -> {self.n_data}'"
   ]
  },
  {
   "cell_type": "markdown",
   "metadata": {},
   "source": [
    "### Making Algorithm"
   ]
  },
  {
   "cell_type": "code",
   "execution_count": 35,
   "metadata": {},
   "outputs": [],
   "source": [
    "class HierarchicalClustering(object):\n",
    "    \n",
    "    def __init__(self, data):\n",
    "        self.data = data\n",
    "        self.cluster_list = []\n",
    "        for dat in data:\n",
    "            self.cluster_list.append(Leaf(dat))\n",
    "        self.near_clusters = None\n",
    "        self.n_hierarchy = 0\n",
    "        \n",
    "    def _distance(self, cluster1:Element, cluster2:Element):\n",
    "        point1 = cluster1.center\n",
    "        point2 = cluster2.center\n",
    "        \n",
    "        diff = point1 - point2\n",
    "        sqrd = np.square(diff)\n",
    "        sumd = np.sum(sqrd)\n",
    "        sqrt = np.sqrt(sumd)\n",
    "        return sqrt\n",
    "    \n",
    "    def find_nearest_center(self):\n",
    "        min_dist = 9999999.\n",
    "        clusteri = None\n",
    "        clen = len(self.cluster_list)\n",
    "        for i in range(clen):\n",
    "            for j in range(i+1, clen):\n",
    "                dist = self._distance(self.cluster_list[i], self.cluster_list[j])\n",
    "                if dist < min_dist:\n",
    "                    min_dist = dist\n",
    "                    clusteri = (i, j)\n",
    "        self.near_clusters = clusteri\n",
    "        return self.near_clusters                \n",
    "        \n",
    "    def merge_nearest_clusters(self):\n",
    "        cl0 = self.near_clusters[0]\n",
    "        cl1 = self.near_clusters[1]\n",
    "        self.near_clusters = None\n",
    "        \n",
    "        new_cluster = Cluster(self.cluster_list[cl0], self.cluster_list[cl1])\n",
    "        self.cluster_list[cl0] = new_cluster # replacing first with\n",
    "        self.cluster_list.pop(cl1)\n",
    "        self.n_hierarchy += 1\n",
    "    \n",
    "    def do_clustering(self):\n",
    "        for i in range(len(self.cluster_list)-1):\n",
    "            self.find_nearest_center()\n",
    "#             print(self.near_clusters)\n",
    "            self.merge_nearest_clusters()\n",
    "        \n",
    "    \n",
    "    def print_cluster(self, cluster=None, spacing=\"    \"):\n",
    "\n",
    "        if cluster is None:\n",
    "            cluster = self.cluster_list[0]\n",
    "\n",
    "        if isinstance(cluster, Leaf):\n",
    "            print (spacing +'===>', cluster.center)\n",
    "            return\n",
    "\n",
    "        # Print the center of this cluster\n",
    "        print (spacing + str(cluster.center))\n",
    "\n",
    "        # Call this function recursively on first node\n",
    "        print (spacing + '--> 1:'+ str(cluster.n_data))\n",
    "        self.print_cluster(cluster.node1, spacing + \"     \")\n",
    "\n",
    "        # Call this function recursively on the false branch\n",
    "        print (spacing + '--> 2:'+ str(cluster.n_data))\n",
    "        self.print_cluster(cluster.node2, spacing + \"     \")"
   ]
  },
  {
   "cell_type": "code",
   "execution_count": 36,
   "metadata": {},
   "outputs": [],
   "source": [
    "hc = HierarchicalClustering(data)"
   ]
  },
  {
   "cell_type": "code",
   "execution_count": 37,
   "metadata": {},
   "outputs": [
    {
     "data": {
      "text/plain": [
       "[[ 2.5793388  -3.24944962] -> 1,\n",
       " [-1.73218527 -1.61277911] -> 1,\n",
       " [ 3.0027444 -4.5700756] -> 1,\n",
       " [ 4.15740848 -4.44394899] -> 1,\n",
       " [ 3.35116079 -4.69165055] -> 1,\n",
       " [-0.15031291 -0.38491921] -> 1,\n",
       " [-0.93655021  0.40254481] -> 1,\n",
       " [ 2.91666152 -5.84116704] -> 1,\n",
       " [-1.62034769  6.44318548] -> 1,\n",
       " [-1.63416661  7.16139365] -> 1,\n",
       " [ 3.45824425 -2.70424982] -> 1,\n",
       " [-2.50430489 -0.02565726] -> 1,\n",
       " [-0.17058494  0.54994562] -> 1,\n",
       " [-1.39588613  0.42697182] -> 1,\n",
       " [-0.52329871  7.20637757] -> 1,\n",
       " [0.13857906 5.17708025] -> 1,\n",
       " [-1.98884451  7.01678848] -> 1,\n",
       " [0.21443032 2.70166865] -> 1,\n",
       " [ 2.69109287 -4.37326056] -> 1,\n",
       " [-1.06671518  5.57888868] -> 1]"
      ]
     },
     "execution_count": 37,
     "metadata": {},
     "output_type": "execute_result"
    }
   ],
   "source": [
    "hc.cluster_list"
   ]
  },
  {
   "cell_type": "code",
   "execution_count": 38,
   "metadata": {},
   "outputs": [
    {
     "name": "stdout",
     "output_type": "stream",
     "text": [
      "(2, 18)\n",
      "(9, 16)\n",
      "(6, 13)\n",
      "(2, 4)\n",
      "(7, 8)\n",
      "(4, 10)\n",
      "(0, 8)\n",
      "(4, 5)\n",
      "(2, 3)\n",
      "(5, 7)\n",
      "(7, 9)\n",
      "(2, 4)\n",
      "(1, 5)\n",
      "(1, 3)\n",
      "(0, 2)\n",
      "(2, 3)\n",
      "(1, 3)\n",
      "(1, 2)\n",
      "(0, 1)\n"
     ]
    }
   ],
   "source": [
    "hc.do_clustering()"
   ]
  },
  {
   "cell_type": "code",
   "execution_count": 39,
   "metadata": {},
   "outputs": [
    {
     "data": {
      "text/plain": [
       "19"
      ]
     },
     "execution_count": 39,
     "metadata": {},
     "output_type": "execute_result"
    }
   ],
   "source": [
    "hc.n_hierarchy"
   ]
  },
  {
   "cell_type": "code",
   "execution_count": 40,
   "metadata": {},
   "outputs": [
    {
     "name": "stdout",
     "output_type": "stream",
     "text": [
      "    [0.43932317 0.53838436]\n",
      "    --> 1:20\n",
      "         [ 3.16523587 -4.26768603]\n",
      "         --> 1:7\n",
      "              [ 3.01879153 -2.97684972]\n",
      "              --> 1:2\n",
      "                   ===> [ 2.5793388  -3.24944962]\n",
      "              --> 2:2\n",
      "                   ===> [ 3.45824425 -2.70424982]\n",
      "         --> 2:7\n",
      "              [ 3.22381361 -4.78402055]\n",
      "              --> 1:5\n",
      "                   [ 3.30060164 -4.51973392]\n",
      "                   --> 1:4\n",
      "                        [ 3.01499936 -4.54499557]\n",
      "                        --> 1:3\n",
      "                             [ 2.84691864 -4.47166808]\n",
      "                             --> 1:2\n",
      "                                  ===> [ 3.0027444 -4.5700756]\n",
      "                             --> 2:2\n",
      "                                  ===> [ 2.69109287 -4.37326056]\n",
      "                        --> 2:3\n",
      "                             ===> [ 3.35116079 -4.69165055]\n",
      "                   --> 2:4\n",
      "                        ===> [ 4.15740848 -4.44394899]\n",
      "              --> 2:5\n",
      "                   ===> [ 2.91666152 -5.84116704]\n",
      "    --> 2:20\n",
      "         [-1.02847597  3.12626842]\n",
      "         --> 1:13\n",
      "              [-0.95362772  0.2939679 ]\n",
      "              --> 1:7\n",
      "                   [-1.14830406 -0.10731556]\n",
      "                   --> 1:6\n",
      "                        [-2.11824508 -0.81921819]\n",
      "                        --> 1:2\n",
      "                             ===> [-1.73218527 -1.61277911]\n",
      "                        --> 2:2\n",
      "                             ===> [-2.50430489 -0.02565726]\n",
      "                   --> 2:6\n",
      "                        [-0.66333355  0.24863576]\n",
      "                        --> 1:4\n",
      "                             [-0.16044892  0.0825132 ]\n",
      "                             --> 1:2\n",
      "                                  ===> [-0.15031291 -0.38491921]\n",
      "                             --> 2:2\n",
      "                                  ===> [-0.17058494  0.54994562]\n",
      "                        --> 2:4\n",
      "                             [-1.16621817  0.41475832]\n",
      "                             --> 1:2\n",
      "                                  ===> [-0.93655021  0.40254481]\n",
      "                             --> 2:2\n",
      "                                  ===> [-1.39588613  0.42697182]\n",
      "              --> 2:7\n",
      "                   ===> [0.21443032 2.70166865]\n",
      "         --> 2:13\n",
      "              [-1.11579894  6.43061902]\n",
      "              --> 1:6\n",
      "                   [-1.44166438  6.95693629]\n",
      "                   --> 1:4\n",
      "                        [-1.74778627  6.8737892 ]\n",
      "                        --> 1:3\n",
      "                             ===> [-1.62034769  6.44318548]\n",
      "                        --> 2:3\n",
      "                             [-1.81150556  7.08909106]\n",
      "                             --> 1:2\n",
      "                                  ===> [-1.63416661  7.16139365]\n",
      "                             --> 2:2\n",
      "                                  ===> [-1.98884451  7.01678848]\n",
      "                   --> 2:4\n",
      "                        ===> [-0.52329871  7.20637757]\n",
      "              --> 2:6\n",
      "                   [-0.46406806  5.37798447]\n",
      "                   --> 1:2\n",
      "                        ===> [0.13857906 5.17708025]\n",
      "                   --> 2:2\n",
      "                        ===> [-1.06671518  5.57888868]\n"
     ]
    }
   ],
   "source": [
    "hc.print_cluster()"
   ]
  },
  {
   "cell_type": "code",
   "execution_count": null,
   "metadata": {},
   "outputs": [],
   "source": []
  }
 ],
 "metadata": {
  "kernelspec": {
   "display_name": "dataEnv",
   "language": "python",
   "name": "dataenv"
  },
  "language_info": {
   "codemirror_mode": {
    "name": "ipython",
    "version": 3
   },
   "file_extension": ".py",
   "mimetype": "text/x-python",
   "name": "python",
   "nbconvert_exporter": "python",
   "pygments_lexer": "ipython3",
   "version": "3.5.2"
  }
 },
 "nbformat": 4,
 "nbformat_minor": 2
}
